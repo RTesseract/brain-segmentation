{
  "nbformat": 4,
  "nbformat_minor": 0,
  "metadata": {
    "colab": {
      "name": "CIS_MLG_2022_07_Team_C_Shared_Coding_Envrionment.ipynb",
      "provenance": [],
      "collapsed_sections": [],
      "authorship_tag": "ABX9TyOIzik9ZQCCnFb1NYLIN+LD",
      "include_colab_link": true
    },
    "kernelspec": {
      "name": "python3",
      "display_name": "Python 3"
    },
    "language_info": {
      "name": "python"
    }
  },
  "cells": [
    {
      "cell_type": "markdown",
      "metadata": {
        "id": "view-in-github",
        "colab_type": "text"
      },
      "source": [
        "<a href=\"https://colab.research.google.com/github/RTesseract/brain-segmentation/blob/master/CIS_MLG_2022_07_Team_C_Shared_Coding_Envrionment.ipynb\" target=\"_parent\"><img src=\"https://colab.research.google.com/assets/colab-badge.svg\" alt=\"Open In Colab\"/></a>"
      ]
    },
    {
      "cell_type": "markdown",
      "metadata": {
        "id": "L7BnuVPnibHw"
      },
      "source": [
        "Get Files Ready"
      ]
    },
    {
      "cell_type": "code",
      "execution_count": null,
      "metadata": {
        "colab": {
          "background_save": true
        },
        "id": "Xf5kdj91tRpa"
      },
      "outputs": [],
      "source": [
        "!ls\n",
        "from google.colab import drive\n",
        "drive.mount('/content/drive')\n",
        "!ls"
      ]
    },
    {
      "cell_type": "markdown",
      "metadata": {
        "id": "4F1gFZEHv5Ca"
      },
      "source": [
        "Getting Envrionments Ready"
      ]
    },
    {
      "cell_type": "code",
      "execution_count": null,
      "metadata": {
        "id": "h_Rtya7i57zG"
      },
      "outputs": [],
      "source": [
        "!python --version\n",
        "!pip install keras>=2.1.1 numpy>=1.13 matplotlib>=2.1.0 scipy>=1.0.0 scikit-image>=0.13.1 opencv-python>=3.4.0 tensorflow pydot\n",
        "import tensorflow as tf\n",
        "print(tf.test.gpu_device_name())"
      ]
    },
    {
      "cell_type": "markdown",
      "metadata": {
        "id": "929CtFgJCA21"
      },
      "source": [
        "Running code"
      ]
    },
    {
      "cell_type": "code",
      "execution_count": null,
      "metadata": {
        "colab": {
          "background_save": true
        },
        "id": "7_buGu9zCG6U"
      },
      "outputs": [],
      "source": [
        "# TODO: fill here"
      ]
    }
  ]
}